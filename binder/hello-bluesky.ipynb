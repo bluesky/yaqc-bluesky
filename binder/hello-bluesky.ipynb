{
 "cells": [
  {
   "cell_type": "markdown",
   "metadata": {},
   "source": [
    "# Hello Bluesky: Reading detectors and scanning\n",
    "\n",
    "In this notebook you will:\n",
    "\n",
    "* Connect to some simulated hardware.\n",
    "* Acquire some data via two common experimental procedures (\"plans\"), ``count`` and ``scan``.\n",
    "* Write a custom plan.\n",
    "\n",
    "We will use the following modules---please import them before continuing"
   ]
  },
  {
   "cell_type": "code",
   "execution_count": 1,
   "metadata": {},
   "outputs": [],
   "source": [
    "import matplotlib\n",
    "%matplotlib inline\n",
    "import bluesky\n",
    "from bluesky import RunEngine\n",
    "from bluesky.callbacks.best_effort import BestEffortCallback\n",
    "import yaqc_bluesky"
   ]
  },
  {
   "cell_type": "markdown",
   "metadata": {},
   "source": [
    "Next we need to create an configure a runengine."
   ]
  },
  {
   "cell_type": "code",
   "execution_count": 2,
   "metadata": {},
   "outputs": [
    {
     "data": {
      "text/plain": [
       "0"
      ]
     },
     "execution_count": 2,
     "metadata": {},
     "output_type": "execute_result"
    }
   ],
   "source": [
    "RE = RunEngine()\n",
    "bec = BestEffortCallback()\n",
    "RE.subscribe(bec)"
   ]
  },
  {
   "cell_type": "markdown",
   "metadata": {},
   "source": [
    "## Configuration\n",
    "\n",
    "Run the following cell to ensure that all of the yaq daemons are running properly. Everything should be online and not busy."
   ]
  },
  {
   "cell_type": "code",
   "execution_count": 3,
   "metadata": {},
   "outputs": [
    {
     "name": "stdout",
     "output_type": "stream",
     "text": [
      "[Errno 111] Connection refused\n",
      "+-----------+-------+--------------------------+------+---------+-------+\n",
      "| host      | port  | kind                     | name | status  | busy  |\n",
      "+-----------+-------+--------------------------+------+---------+-------+\n",
      "| 127.0.0.1 | 38765 | fake-continuous-hardware | test | offline | ?     |\n",
      "| 127.0.0.1 | 38100 | fake-continuous-hardware | d1   | online  | False |\n",
      "| 127.0.0.1 | 38101 | fake-continuous-hardware | d2   | online  | False |\n",
      "| 127.0.0.1 | 38102 | fake-continuous-hardware | d3   | online  | False |\n",
      "| 127.0.0.1 | 38200 | fake-triggered-sensor    | pmt  | online  | False |\n",
      "+-----------+-------+--------------------------+------+---------+-------+\n"
     ]
    }
   ],
   "source": [
    "%%bash\n",
    "yaqd status"
   ]
  },
  {
   "cell_type": "markdown",
   "metadata": {},
   "source": [
    "Now, let's generate yaqc-bluesky device objects for each of our daemons."
   ]
  },
  {
   "cell_type": "code",
   "execution_count": 4,
   "metadata": {},
   "outputs": [],
   "source": [
    "m1 = yaqc_bluesky.Device(38100)\n",
    "m2 = yaqc_bluesky.Device(38101)\n",
    "m3 = yaqc_bluesky.Device(38102)\n",
    "s1 = yaqc_bluesky.Device(38200)"
   ]
  },
  {
   "cell_type": "markdown",
   "metadata": {},
   "source": [
    "## Count"
   ]
  },
  {
   "cell_type": "code",
   "execution_count": 5,
   "metadata": {},
   "outputs": [
    {
     "name": "stdout",
     "output_type": "stream",
     "text": [
      "\n",
      "\n",
      "Transient Scan ID: 1     Time: 2020-07-16 18:51:29\n",
      "Persistent Unique Scan ID: '00aa7d29-08ee-41a0-9c3c-c085c68bd04b'\n",
      "New stream: 'primary'\n",
      "+-----------+------------+-----------------+\n",
      "|   seq_num |       time | pmt_random_walk |\n",
      "+-----------+------------+-----------------+\n",
      "|         1 | 18:51:29.0 |          -0.180 |\n",
      "+-----------+------------+-----------------+\n",
      "generator count ['00aa7d29'] (scan num: 1)\n",
      "\n",
      "\n",
      "\n"
     ]
    },
    {
     "data": {
      "text/plain": [
       "('00aa7d29-08ee-41a0-9c3c-c085c68bd04b',)"
      ]
     },
     "execution_count": 5,
     "metadata": {},
     "output_type": "execute_result"
    }
   ],
   "source": [
    "from bluesky.plans import count\n",
    "RE(count([s1]))"
   ]
  },
  {
   "cell_type": "markdown",
   "metadata": {},
   "source": [
    "## Scan"
   ]
  },
  {
   "cell_type": "code",
   "execution_count": 6,
   "metadata": {},
   "outputs": [
    {
     "data": {
      "text/plain": [
       "<Figure size 432x288 with 0 Axes>"
      ]
     },
     "execution_count": 6,
     "metadata": {},
     "output_type": "execute_result"
    },
    {
     "data": {
      "text/plain": [
       "<Figure size 432x288 with 0 Axes>"
      ]
     },
     "metadata": {},
     "output_type": "display_data"
    }
   ],
   "source": [
    "import matplotlib.pyplot as plt\n",
    "plt.ion()\n",
    "from bluesky.utils import install_nb_kicker\n",
    "install_nb_kicker()\n",
    "plt.figure('d1_readback vs pmt_random_walk')\n",
    "plt.gcf()  # Display a snapshot of the current state of the figure."
   ]
  },
  {
   "cell_type": "code",
   "execution_count": 7,
   "metadata": {},
   "outputs": [
    {
     "name": "stdout",
     "output_type": "stream",
     "text": [
      "\n",
      "\n",
      "Transient Scan ID: 2     Time: 2020-07-16 18:51:30\n",
      "Persistent Unique Scan ID: 'a36ba9e2-cd0c-4148-88a2-4afdf8052647'\n",
      "New stream: 'primary'\n",
      "+-----------+------------+-------------+-----------------+\n",
      "|   seq_num |       time | d1_readback | pmt_random_walk |\n",
      "+-----------+------------+-------------+-----------------+\n",
      "|         1 | 18:51:31.8 |       0.000 |          -0.087 |\n",
      "|         2 | 18:51:32.1 |       0.071 |           0.196 |\n",
      "|         3 | 18:51:32.5 |       0.143 |          -0.025 |\n",
      "|         4 | 18:51:32.8 |       0.214 |          -0.002 |\n",
      "|         5 | 18:51:33.1 |       0.286 |           0.099 |\n",
      "|         6 | 18:51:33.3 |       0.357 |          -0.123 |\n",
      "|         7 | 18:51:33.6 |       0.429 |          -0.471 |\n",
      "|         8 | 18:51:34.0 |       0.500 |          -0.111 |\n",
      "|         9 | 18:51:34.3 |       0.571 |          -0.235 |\n",
      "|        10 | 18:51:34.6 |       0.643 |          -0.078 |\n",
      "|        11 | 18:51:34.9 |       0.714 |          -0.264 |\n",
      "|        12 | 18:51:35.2 |       0.786 |          -0.016 |\n",
      "|        13 | 18:51:35.5 |       0.857 |           0.008 |\n",
      "|        14 | 18:51:35.8 |       0.929 |          -0.073 |\n",
      "|        15 | 18:51:36.1 |       1.000 |           0.268 |\n",
      "+-----------+------------+-------------+-----------------+\n",
      "generator scan ['a36ba9e2'] (scan num: 2)\n",
      "\n",
      "\n",
      "\n"
     ]
    },
    {
     "name": "stderr",
     "output_type": "stream",
     "text": [
      "Failed to stop <yaqc_bluesky._device.YaqDevice object at 0x7f4a79d93cd0>.\n",
      "Traceback (most recent call last):\n",
      "  File \"/home/blaise/miniconda3/envs/yaq/lib/python3.8/site-packages/bluesky/run_engine.py\", line 1228, in _stop_movable_objects\n",
      "    stop(success=success)\n",
      "TypeError: 'NoneType' object is not callable\n"
     ]
    },
    {
     "data": {
      "text/plain": [
       "('a36ba9e2-cd0c-4148-88a2-4afdf8052647',)"
      ]
     },
     "execution_count": 7,
     "metadata": {},
     "output_type": "execute_result"
    },
    {
     "data": {
      "image/png": "[encoded data removed]",
      "text/plain": [
       "<Figure size 460.8x400 with 1 Axes>"
      ]
     },
     "metadata": {
      "needs_background": "light"
     },
     "output_type": "display_data"
    }
   ],
   "source": [
    "from bluesky.plans import scan\n",
    "setattr(m1, \"tolerance\", 1e-6)\n",
    "RE(scan([s1], m1, 0, 1, 15))"
   ]
  },
  {
   "cell_type": "code",
   "execution_count": 34,
   "metadata": {},
   "outputs": [
    {
     "data": {
      "text/plain": [
       "True"
      ]
     },
     "execution_count": 34,
     "metadata": {},
     "output_type": "execute_result"
    }
   ],
   "source": [
    "EXPECTED_ATTRS = (\n",
    "            'name',\n",
    "            'parent',\n",
    "            'read',\n",
    "            'describe',\n",
    "            'read_configuration',\n",
    "            'describe_configuration',\n",
    "            'set',\n",
    "            'stop',\n",
    "        )\n",
    "all(hasattr(m1, a) for a in EXPECTED_ATTRS)"
   ]
  },
  {
   "cell_type": "code",
   "execution_count": 41,
   "metadata": {},
   "outputs": [
    {
     "data": {
      "text/plain": [
       "yaqc_bluesky._device.YaqDevice"
      ]
     },
     "execution_count": 41,
     "metadata": {},
     "output_type": "execute_result"
    }
   ],
   "source": [
    "from bluesky.utils import Movable\n",
    "isinstance(m1, Movable)\n",
    "Movable.register(type(m1))"
   ]
  },
  {
   "cell_type": "code",
   "execution_count": 43,
   "metadata": {},
   "outputs": [
    {
     "name": "stderr",
     "output_type": "stream",
     "text": [
      "Run aborted\n",
      "Traceback (most recent call last):\n",
      "  File \"/home/blaise/miniconda3/envs/yaq/lib/python3.8/site-packages/bluesky/run_engine.py\", line 1365, in _run\n",
      "    msg = self._plan_stack[-1].send(resp)\n",
      "  File \"/home/blaise/miniconda3/envs/yaq/lib/python3.8/site-packages/bluesky/plans.py\", line 1157, in grid_scan\n",
      "    args_pattern = plan_patterns.classify_outer_product_args_pattern(args)\n",
      "  File \"/home/blaise/miniconda3/envs/yaq/lib/python3.8/site-packages/bluesky/plan_patterns.py\", line 462, in classify_outer_product_args_pattern\n",
      "    raise ValueError(f\"Incorrect order of elements in the argument list 'args': \"\n",
      "ValueError: Incorrect order of elements in the argument list 'args': some of the movable objects (motors) are out of place (args = [<yaqc_bluesky._device.YaqDevice object at 0x7f4a79d93cd0>, 0, 1, 15, <yaqc_bluesky._device.YaqDevice object at 0x7f4a4a3c6910>, 0, 1, 15])\n"
     ]
    },
    {
     "ename": "ValueError",
     "evalue": "Incorrect order of elements in the argument list 'args': some of the movable objects (motors) are out of place (args = [<yaqc_bluesky._device.YaqDevice object at 0x7f4a79d93cd0>, 0, 1, 15, <yaqc_bluesky._device.YaqDevice object at 0x7f4a4a3c6910>, 0, 1, 15])",
     "output_type": "error",
     "traceback": [
      "\u001b[0;31m---------------------------------------------------------------------------\u001b[0m",
      "\u001b[0;31mValueError\u001b[0m                                Traceback (most recent call last)",
      "\u001b[0;32m<ipython-input-43-d64eb0d528da>\u001b[0m in \u001b[0;36m<module>\u001b[0;34m\u001b[0m\n\u001b[1;32m      1\u001b[0m \u001b[0;32mfrom\u001b[0m \u001b[0mbluesky\u001b[0m\u001b[0;34m.\u001b[0m\u001b[0mplans\u001b[0m \u001b[0;32mimport\u001b[0m \u001b[0mgrid_scan\u001b[0m\u001b[0;34m\u001b[0m\u001b[0;34m\u001b[0m\u001b[0m\n\u001b[1;32m      2\u001b[0m \u001b[0msetattr\u001b[0m\u001b[0;34m(\u001b[0m\u001b[0mm1\u001b[0m\u001b[0;34m,\u001b[0m \u001b[0;34m\"tolerance\"\u001b[0m\u001b[0;34m,\u001b[0m \u001b[0;36m1e-6\u001b[0m\u001b[0;34m)\u001b[0m\u001b[0;34m\u001b[0m\u001b[0;34m\u001b[0m\u001b[0m\n\u001b[0;32m----> 3\u001b[0;31m \u001b[0mRE\u001b[0m\u001b[0;34m(\u001b[0m\u001b[0mgrid_scan\u001b[0m\u001b[0;34m(\u001b[0m\u001b[0;34m[\u001b[0m\u001b[0ms1\u001b[0m\u001b[0;34m]\u001b[0m\u001b[0;34m,\u001b[0m \u001b[0mm1\u001b[0m\u001b[0;34m,\u001b[0m \u001b[0;36m0\u001b[0m\u001b[0;34m,\u001b[0m \u001b[0;36m1\u001b[0m\u001b[0;34m,\u001b[0m \u001b[0;36m15\u001b[0m\u001b[0;34m,\u001b[0m \u001b[0mm2\u001b[0m\u001b[0;34m,\u001b[0m \u001b[0;36m0\u001b[0m\u001b[0;34m,\u001b[0m \u001b[0;36m1\u001b[0m\u001b[0;34m,\u001b[0m \u001b[0;36m15\u001b[0m\u001b[0;34m)\u001b[0m\u001b[0;34m)\u001b[0m\u001b[0;34m\u001b[0m\u001b[0;34m\u001b[0m\u001b[0m\n\u001b[0m",
      "\u001b[0;32m~/miniconda3/envs/yaq/lib/python3.8/site-packages/bluesky/run_engine.py\u001b[0m in \u001b[0;36m__call__\u001b[0;34m(self, *args, **metadata_kw)\u001b[0m\n\u001b[1;32m    805\u001b[0m             \u001b[0mself\u001b[0m\u001b[0;34m.\u001b[0m\u001b[0m_task_fut\u001b[0m\u001b[0;34m.\u001b[0m\u001b[0madd_done_callback\u001b[0m\u001b[0;34m(\u001b[0m\u001b[0mset_blocking_event\u001b[0m\u001b[0;34m)\u001b[0m\u001b[0;34m\u001b[0m\u001b[0;34m\u001b[0m\u001b[0m\n\u001b[1;32m    806\u001b[0m \u001b[0;34m\u001b[0m\u001b[0m\n\u001b[0;32m--> 807\u001b[0;31m         \u001b[0mself\u001b[0m\u001b[0;34m.\u001b[0m\u001b[0m_resume_task\u001b[0m\u001b[0;34m(\u001b[0m\u001b[0minit_func\u001b[0m\u001b[0;34m=\u001b[0m\u001b[0m_build_task\u001b[0m\u001b[0;34m)\u001b[0m\u001b[0;34m\u001b[0m\u001b[0;34m\u001b[0m\u001b[0m\n\u001b[0m\u001b[1;32m    808\u001b[0m \u001b[0;34m\u001b[0m\u001b[0m\n\u001b[1;32m    809\u001b[0m         \u001b[0;32mif\u001b[0m \u001b[0mself\u001b[0m\u001b[0;34m.\u001b[0m\u001b[0m_interrupted\u001b[0m\u001b[0;34m:\u001b[0m\u001b[0;34m\u001b[0m\u001b[0;34m\u001b[0m\u001b[0m\n",
      "\u001b[0;32m~/miniconda3/envs/yaq/lib/python3.8/site-packages/bluesky/run_engine.py\u001b[0m in \u001b[0;36m_resume_task\u001b[0;34m(self, init_func)\u001b[0m\n\u001b[1;32m    929\u001b[0m                     if (exc is not None\n\u001b[1;32m    930\u001b[0m                             and not isinstance(exc, _RunEnginePanic)):\n\u001b[0;32m--> 931\u001b[0;31m                         \u001b[0;32mraise\u001b[0m \u001b[0mexc\u001b[0m\u001b[0;34m\u001b[0m\u001b[0;34m\u001b[0m\u001b[0m\n\u001b[0m\u001b[1;32m    932\u001b[0m \u001b[0;34m\u001b[0m\u001b[0m\n\u001b[1;32m    933\u001b[0m     \u001b[0;32mdef\u001b[0m \u001b[0minstall_suspender\u001b[0m\u001b[0;34m(\u001b[0m\u001b[0mself\u001b[0m\u001b[0;34m,\u001b[0m \u001b[0msuspender\u001b[0m\u001b[0;34m)\u001b[0m\u001b[0;34m:\u001b[0m\u001b[0;34m\u001b[0m\u001b[0;34m\u001b[0m\u001b[0m\n",
      "\u001b[0;32m~/miniconda3/envs/yaq/lib/python3.8/site-packages/bluesky/run_engine.py\u001b[0m in \u001b[0;36m_run\u001b[0;34m(self)\u001b[0m\n\u001b[1;32m   1498\u001b[0m             \u001b[0mexit_reason\u001b[0m \u001b[0;34m=\u001b[0m \u001b[0mstr\u001b[0m\u001b[0;34m(\u001b[0m\u001b[0merr\u001b[0m\u001b[0;34m)\u001b[0m\u001b[0;34m\u001b[0m\u001b[0;34m\u001b[0m\u001b[0m\n\u001b[1;32m   1499\u001b[0m             \u001b[0mself\u001b[0m\u001b[0;34m.\u001b[0m\u001b[0mlog\u001b[0m\u001b[0;34m.\u001b[0m\u001b[0mexception\u001b[0m\u001b[0;34m(\u001b[0m\u001b[0;34m\"Run aborted\"\u001b[0m\u001b[0;34m)\u001b[0m\u001b[0;34m\u001b[0m\u001b[0;34m\u001b[0m\u001b[0m\n\u001b[0;32m-> 1500\u001b[0;31m             \u001b[0;32mraise\u001b[0m \u001b[0merr\u001b[0m\u001b[0;34m\u001b[0m\u001b[0;34m\u001b[0m\u001b[0m\n\u001b[0m\u001b[1;32m   1501\u001b[0m         \u001b[0;32mfinally\u001b[0m\u001b[0;34m:\u001b[0m\u001b[0;34m\u001b[0m\u001b[0;34m\u001b[0m\u001b[0m\n\u001b[1;32m   1502\u001b[0m             \u001b[0;32mif\u001b[0m \u001b[0;32mnot\u001b[0m \u001b[0mexit_reason\u001b[0m\u001b[0;34m:\u001b[0m\u001b[0;34m\u001b[0m\u001b[0;34m\u001b[0m\u001b[0m\n",
      "\u001b[0;32m~/miniconda3/envs/yaq/lib/python3.8/site-packages/bluesky/run_engine.py\u001b[0m in \u001b[0;36m_run\u001b[0;34m(self)\u001b[0m\n\u001b[1;32m   1363\u001b[0m                     \u001b[0;32melse\u001b[0m\u001b[0;34m:\u001b[0m\u001b[0;34m\u001b[0m\u001b[0;34m\u001b[0m\u001b[0m\n\u001b[1;32m   1364\u001b[0m                         \u001b[0;32mtry\u001b[0m\u001b[0;34m:\u001b[0m\u001b[0;34m\u001b[0m\u001b[0;34m\u001b[0m\u001b[0m\n\u001b[0;32m-> 1365\u001b[0;31m                             \u001b[0mmsg\u001b[0m \u001b[0;34m=\u001b[0m \u001b[0mself\u001b[0m\u001b[0;34m.\u001b[0m\u001b[0m_plan_stack\u001b[0m\u001b[0;34m[\u001b[0m\u001b[0;34m-\u001b[0m\u001b[0;36m1\u001b[0m\u001b[0;34m]\u001b[0m\u001b[0;34m.\u001b[0m\u001b[0msend\u001b[0m\u001b[0;34m(\u001b[0m\u001b[0mresp\u001b[0m\u001b[0;34m)\u001b[0m\u001b[0;34m\u001b[0m\u001b[0;34m\u001b[0m\u001b[0m\n\u001b[0m\u001b[1;32m   1366\u001b[0m                         \u001b[0;31m# We have exhausted the top generator\u001b[0m\u001b[0;34m\u001b[0m\u001b[0;34m\u001b[0m\u001b[0;34m\u001b[0m\u001b[0m\n\u001b[1;32m   1367\u001b[0m                         \u001b[0;32mexcept\u001b[0m \u001b[0mStopIteration\u001b[0m\u001b[0;34m:\u001b[0m\u001b[0;34m\u001b[0m\u001b[0;34m\u001b[0m\u001b[0m\n",
      "\u001b[0;32m~/miniconda3/envs/yaq/lib/python3.8/site-packages/bluesky/plans.py\u001b[0m in \u001b[0;36mgrid_scan\u001b[0;34m(detectors, snake_axes, per_step, md, *args)\u001b[0m\n\u001b[1;32m   1155\u001b[0m     \u001b[0;31m#   any values of `snakeX` in `args`.\u001b[0m\u001b[0;34m\u001b[0m\u001b[0;34m\u001b[0m\u001b[0;34m\u001b[0m\u001b[0m\n\u001b[1;32m   1156\u001b[0m \u001b[0;34m\u001b[0m\u001b[0m\n\u001b[0;32m-> 1157\u001b[0;31m     \u001b[0margs_pattern\u001b[0m \u001b[0;34m=\u001b[0m \u001b[0mplan_patterns\u001b[0m\u001b[0;34m.\u001b[0m\u001b[0mclassify_outer_product_args_pattern\u001b[0m\u001b[0;34m(\u001b[0m\u001b[0margs\u001b[0m\u001b[0;34m)\u001b[0m\u001b[0;34m\u001b[0m\u001b[0;34m\u001b[0m\u001b[0m\n\u001b[0m\u001b[1;32m   1158\u001b[0m     \u001b[0;32mif\u001b[0m \u001b[0;34m(\u001b[0m\u001b[0msnake_axes\u001b[0m \u001b[0;32mis\u001b[0m \u001b[0;32mnot\u001b[0m \u001b[0;32mNone\u001b[0m\u001b[0;34m)\u001b[0m \u001b[0;32mand\u001b[0m\u001b[0;31m \u001b[0m\u001b[0;31m\\\u001b[0m\u001b[0;34m\u001b[0m\u001b[0;34m\u001b[0m\u001b[0m\n\u001b[1;32m   1159\u001b[0m             \u001b[0;34m(\u001b[0m\u001b[0margs_pattern\u001b[0m \u001b[0;34m==\u001b[0m \u001b[0mplan_patterns\u001b[0m\u001b[0;34m.\u001b[0m\u001b[0mOuterProductArgsPattern\u001b[0m\u001b[0;34m.\u001b[0m\u001b[0mPATTERN_2\u001b[0m\u001b[0;34m)\u001b[0m\u001b[0;34m:\u001b[0m\u001b[0;34m\u001b[0m\u001b[0;34m\u001b[0m\u001b[0m\n",
      "\u001b[0;32m~/miniconda3/envs/yaq/lib/python3.8/site-packages/bluesky/plan_patterns.py\u001b[0m in \u001b[0;36mclassify_outer_product_args_pattern\u001b[0;34m(args)\u001b[0m\n\u001b[1;32m    460\u001b[0m \u001b[0;34m\u001b[0m\u001b[0m\n\u001b[1;32m    461\u001b[0m     \u001b[0;32mif\u001b[0m \u001b[0;32mnot\u001b[0m \u001b[0margs_valid\u001b[0m\u001b[0;34m:\u001b[0m\u001b[0;34m\u001b[0m\u001b[0;34m\u001b[0m\u001b[0m\n\u001b[0;32m--> 462\u001b[0;31m         raise ValueError(f\"Incorrect order of elements in the argument list 'args': \"\n\u001b[0m\u001b[1;32m    463\u001b[0m                          \u001b[0;34mf\"some of the movable objects (motors) are out of place \"\u001b[0m\u001b[0;34m\u001b[0m\u001b[0;34m\u001b[0m\u001b[0m\n\u001b[1;32m    464\u001b[0m                          f\"(args = {args})\")\n",
      "\u001b[0;31mValueError\u001b[0m: Incorrect order of elements in the argument list 'args': some of the movable objects (motors) are out of place (args = [<yaqc_bluesky._device.YaqDevice object at 0x7f4a79d93cd0>, 0, 1, 15, <yaqc_bluesky._device.YaqDevice object at 0x7f4a4a3c6910>, 0, 1, 15])"
     ]
    }
   ],
   "source": [
    "from bluesky.plans import grid_scan\n",
    "setattr(m1, \"tolerance\", 1e-6)\n",
    "RE(grid_scan([s1], m1, 0, 1, 15, m2, 0, 1, 15))"
   ]
  },
  {
   "cell_type": "markdown",
   "metadata": {},
   "source": [
    "Bluesky includes utilities to inspecting plans before they are run. You can imagine various reasons you might want to do this. Example:"
   ]
  },
  {
   "cell_type": "code",
   "execution_count": 10,
   "metadata": {},
   "outputs": [
    {
     "name": "stdout",
     "output_type": "stream",
     "text": [
      "=================================== Open Run ===================================\n",
      "d1 -> -1.0\n",
      "  Read ['pmt', 'd1']\n",
      "d1 -> -0.5\n",
      "  Read ['pmt', 'd1']\n",
      "d1 -> 0.0\n",
      "  Read ['pmt', 'd1']\n",
      "d1 -> 0.5\n",
      "  Read ['pmt', 'd1']\n",
      "d1 -> 1.0\n",
      "  Read ['pmt', 'd1']\n",
      "================================== Close Run ===================================\n"
     ]
    }
   ],
   "source": [
    "from bluesky.simulators import summarize_plan\n",
    "\n",
    "summarize_plan(scan([s1], m1, -1, 1, 5))"
   ]
  },
  {
   "cell_type": "markdown",
   "metadata": {},
   "source": [
    "## Custom Plan"
   ]
  },
  {
   "cell_type": "code",
   "execution_count": null,
   "metadata": {},
   "outputs": [],
   "source": []
  }
 ],
 "metadata": {
  "kernelspec": {
   "display_name": "Python 3",
   "language": "python",
   "name": "python3"
  },
  "language_info": {
   "codemirror_mode": {
    "name": "ipython",
    "version": 3
   },
   "file_extension": ".py",
   "mimetype": "text/x-python",
   "name": "python",
   "nbconvert_exporter": "python",
   "pygments_lexer": "ipython3",
   "version": "3.8.3"
  }
 },
 "nbformat": 4,
 "nbformat_minor": 4
}
