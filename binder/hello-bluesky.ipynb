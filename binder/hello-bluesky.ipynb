{
 "cells": [
  {
   "cell_type": "markdown",
   "metadata": {},
   "source": [
    "# Hello Bluesky: Reading detectors and scanning\n",
    "\n",
    "In this notebook you will:\n",
    "\n",
    "* Connect to some simulated hardware.\n",
    "* Acquire some data via two common experimental procedures (\"plans\"), ``count`` and ``scan``.\n",
    "* Write a custom plan.\n",
    "\n",
    "We will use the following modules---please import them before continuing"
   ]
  },
  {
   "cell_type": "code",
   "execution_count": 1,
   "metadata": {},
   "outputs": [],
   "source": [
    "import matplotlib\n",
    "%matplotlib widget\n",
    "import bluesky\n",
    "from bluesky import RunEngine\n",
    "from bluesky.callbacks.best_effort import BestEffortCallback\n",
    "import yaqc_bluesky"
   ]
  },
  {
   "cell_type": "markdown",
   "metadata": {},
   "source": [
    "Next we need to create an configure a runengine."
   ]
  },
  {
   "cell_type": "code",
   "execution_count": 2,
   "metadata": {},
   "outputs": [
    {
     "data": {
      "text/plain": [
       "0"
      ]
     },
     "execution_count": 2,
     "metadata": {},
     "output_type": "execute_result"
    }
   ],
   "source": [
    "RE = RunEngine()\n",
    "bec = BestEffortCallback()\n",
    "RE.subscribe(bec)"
   ]
  },
  {
   "cell_type": "markdown",
   "metadata": {},
   "source": [
    "## Configuration\n",
    "\n",
    "Run the following cell to ensure that all of the yaq daemons are running properly. Everything should be online and not busy."
   ]
  },
  {
   "cell_type": "code",
   "execution_count": 3,
   "metadata": {},
   "outputs": [
    {
     "name": "stdout",
     "output_type": "stream",
     "text": [
      "[Errno 111] Connection refused\n",
      "+-----------+-------+--------------------------+------+---------+-------+\n",
      "| host      | port  | kind                     | name | status  | busy  |\n",
      "+-----------+-------+--------------------------+------+---------+-------+\n",
      "| 127.0.0.1 | 38765 | fake-continuous-hardware | test | offline | ?     |\n",
      "| 127.0.0.1 | 38100 | fake-continuous-hardware | d1   | online  | False |\n",
      "| 127.0.0.1 | 38101 | fake-continuous-hardware | d2   | online  | False |\n",
      "| 127.0.0.1 | 38102 | fake-continuous-hardware | d3   | online  | False |\n",
      "| 127.0.0.1 | 38200 | fake-triggered-sensor    | pmt  | online  | False |\n",
      "+-----------+-------+--------------------------+------+---------+-------+\n"
     ]
    }
   ],
   "source": [
    "%%bash\n",
    "yaqd status"
   ]
  },
  {
   "cell_type": "markdown",
   "metadata": {},
   "source": [
    "Now, let's generate yaqc-bluesky device objects for each of our daemons."
   ]
  },
  {
   "cell_type": "code",
   "execution_count": 4,
   "metadata": {},
   "outputs": [],
   "source": [
    "m1 = yaqc_bluesky.Device(38100)\n",
    "m2 = yaqc_bluesky.Device(38101)\n",
    "m3 = yaqc_bluesky.Device(38102)\n",
    "s1 = yaqc_bluesky.Device(38200)"
   ]
  },
  {
   "cell_type": "markdown",
   "metadata": {},
   "source": [
    "## Count"
   ]
  },
  {
   "cell_type": "code",
   "execution_count": 5,
   "metadata": {},
   "outputs": [
    {
     "name": "stdout",
     "output_type": "stream",
     "text": [
      "\n",
      "\n",
      "Transient Scan ID: 1     Time: 2020-07-16 17:55:57\n",
      "Persistent Unique Scan ID: '8440795e-bc58-403a-8bcf-1d5778ff1dee'\n",
      "New stream: 'primary'\n",
      "+-----------+------------+-----------------+\n",
      "|   seq_num |       time | pmt_random_walk |\n",
      "+-----------+------------+-----------------+\n",
      "|         1 | 17:55:57.7 |          -0.258 |\n",
      "+-----------+------------+-----------------+\n",
      "generator count ['8440795e'] (scan num: 1)\n",
      "\n",
      "\n",
      "\n"
     ]
    },
    {
     "data": {
      "text/plain": [
       "('8440795e-bc58-403a-8bcf-1d5778ff1dee',)"
      ]
     },
     "execution_count": 5,
     "metadata": {},
     "output_type": "execute_result"
    }
   ],
   "source": [
    "from bluesky.plans import count\n",
    "RE(count([s1]))"
   ]
  },
  {
   "cell_type": "markdown",
   "metadata": {},
   "source": [
    "## Scan"
   ]
  },
  {
   "cell_type": "code",
   "execution_count": 7,
   "metadata": {},
   "outputs": [
    {
     "name": "stdout",
     "output_type": "stream",
     "text": [
      "\n",
      "\n",
      "Transient Scan ID: 3     Time: 2020-07-16 17:56:17\n",
      "Persistent Unique Scan ID: '02f4602b-1e41-4923-b1a7-563d4ea8b768'\n",
      "New stream: 'primary'\n",
      "+-----------+------------+-------------+-----------------+\n",
      "|   seq_num |       time | d1_readback | pmt_random_walk |\n",
      "+-----------+------------+-------------+-----------------+\n",
      "|         1 | 17:56:19.0 |       0.000 |          -0.216 |\n",
      "|         2 | 17:56:19.2 |       0.000 |           0.140 |\n",
      "|         3 | 17:56:19.2 |       0.000 |          -0.007 |\n",
      "|         4 | 17:56:19.3 |       0.000 |           0.017 |\n",
      "|         5 | 17:56:19.4 |       0.000 |          -0.258 |\n",
      "|         6 | 17:56:19.5 |       0.000 |          -0.186 |\n",
      "|         7 | 17:56:19.5 |       0.000 |           0.344 |\n",
      "|         8 | 17:56:19.6 |       0.000 |          -0.138 |\n",
      "|         9 | 17:56:20.9 |       1.000 |          -0.215 |\n",
      "|        10 | 17:56:21.0 |       1.000 |          -0.148 |\n",
      "|        11 | 17:56:21.1 |       1.000 |           0.002 |\n",
      "|        12 | 17:56:21.2 |       1.000 |          -0.024 |\n",
      "|        13 | 17:56:21.3 |       1.000 |           0.141 |\n",
      "|        14 | 17:56:21.4 |       1.000 |          -0.255 |\n",
      "|        15 | 17:56:21.5 |       1.000 |          -0.038 |\n",
      "+-----------+------------+-------------+-----------------+\n",
      "generator scan ['02f4602b'] (scan num: 3)\n"
     ]
    },
    {
     "name": "stderr",
     "output_type": "stream",
     "text": [
      "/home/blaise/miniconda3/envs/yaq/lib/python3.8/site-packages/bluesky/callbacks/fitting.py:284: RuntimeWarning: divide by zero encountered in double_scalars\n",
      "  m = dy / dx\n"
     ]
    },
    {
     "name": "stdout",
     "output_type": "stream",
     "text": [
      "\n",
      "\n",
      "\n"
     ]
    },
    {
     "data": {
      "text/plain": [
       "('02f4602b-1e41-4923-b1a7-563d4ea8b768',)"
      ]
     },
     "execution_count": 7,
     "metadata": {},
     "output_type": "execute_result"
    }
   ],
   "source": [
    "from bluesky.plans import scan\n",
    "RE(scan([s1], m1, -10, 10, 15))"
   ]
  },
  {
   "cell_type": "markdown",
   "metadata": {},
   "source": [
    "Bluesky includes utilities to inspecting plans before they are run. You can imagine various reasons you might want to do this. Example:"
   ]
  },
  {
   "cell_type": "code",
   "execution_count": null,
   "metadata": {},
   "outputs": [],
   "source": [
    "# TODO"
   ]
  },
  {
   "cell_type": "markdown",
   "metadata": {},
   "source": [
    "## Custom Plan"
   ]
  },
  {
   "cell_type": "code",
   "execution_count": null,
   "metadata": {},
   "outputs": [],
   "source": []
  }
 ],
 "metadata": {
  "kernelspec": {
   "display_name": "Python 3",
   "language": "python",
   "name": "python3"
  },
  "language_info": {
   "codemirror_mode": {
    "name": "ipython",
    "version": 3
   },
   "file_extension": ".py",
   "mimetype": "text/x-python",
   "name": "python",
   "nbconvert_exporter": "python",
   "pygments_lexer": "ipython3",
   "version": "3.8.3"
  }
 },
 "nbformat": 4,
 "nbformat_minor": 4
}
