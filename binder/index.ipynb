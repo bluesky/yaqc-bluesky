{
 "cells": [
  {
   "cell_type": "markdown",
   "metadata": {},
   "source": [
    "# yaqc-bluesky\n",
    "\n",
    "Welcome to the yaqc-bluesky jupyter lab playground on binder. 👋\n",
    "\n",
    "Run the cell below to launch a bunch of yaq daemons.\n",
    "\n",
    "Once you're ready, go ahead and play with the other notebooks in this directory."
   ]
  },
  {
   "cell_type": "code",
   "execution_count": 3,
   "metadata": {},
   "outputs": [
    {
     "name": "stdout",
     "output_type": "stream",
     "text": [
      "scanning host 127.0.0.1 from 36000 to 39999...\n",
      "...saw unchanged daemon fake-continuous-hardware:d1 on port 38100\n",
      "...saw unchanged daemon fake-continuous-hardware:d2 on port 38101\n",
      "...saw unchanged daemon fake-continuous-hardware:d3 on port 38102\n",
      "...done!\n",
      "+-----------+-------+--------------------------+------+--------+-------+\n",
      "| host      | port  | kind                     | name | status | busy  |\n",
      "+-----------+-------+--------------------------+------+--------+-------+\n",
      "| 127.0.0.1 | 38100 | fake-continuous-hardware | d1   | online | False |\n",
      "| 127.0.0.1 | 38101 | fake-continuous-hardware | d2   | online | False |\n",
      "| 127.0.0.1 | 38102 | fake-continuous-hardware | d3   | online | False |\n",
      "+-----------+-------+--------------------------+------+--------+-------+\n"
     ]
    }
   ],
   "source": [
    "%%bash\n",
    "chmod +x launch-daemons.sh\n",
    "./launch-daemons.sh\n",
    "yaqd scan\n",
    "yaqd status"
   ]
  },
  {
   "cell_type": "code",
   "execution_count": null,
   "metadata": {},
   "outputs": [],
   "source": []
  }
 ],
 "metadata": {
  "kernelspec": {
   "display_name": "Python 3",
   "language": "python",
   "name": "python3"
  },
  "language_info": {
   "codemirror_mode": {
    "name": "ipython",
    "version": 3
   },
   "file_extension": ".py",
   "mimetype": "text/x-python",
   "name": "python",
   "nbconvert_exporter": "python",
   "pygments_lexer": "ipython3",
   "version": "3.7.6"
  }
 },
 "nbformat": 4,
 "nbformat_minor": 4
}
