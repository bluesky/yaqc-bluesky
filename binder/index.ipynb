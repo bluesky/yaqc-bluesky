{
 "cells": [
  {
   "cell_type": "markdown",
   "metadata": {},
   "source": [
    "# yaqc-bluesky\n",
    "\n",
    "Welcome to the yaqc-bluesky jupyter lab playground on binder. 👋\n",
    "\n",
    "Several yaq daemons are running in the background.\n",
    "\n",
    "Run `yaqd status` below to see which daemons are avaliable.\n",
    "\n",
    "Once you're ready, go ahead and play with the other notebooks in this directory."
   ]
  },
  {
   "cell_type": "code",
   "execution_count": null,
   "metadata": {},
   "outputs": [],
   "source": [
    "%%bash\n",
    "./launch-daemons.sh\n",
    "yaqd scan\n",
    "yaqd status"
   ]
  }
 ],
 "metadata": {
  "kernelspec": {
   "display_name": "Python 3",
   "language": "python",
   "name": "python3"
  },
  "language_info": {
   "codemirror_mode": {
    "name": "ipython",
    "version": 3
   },
   "file_extension": ".py",
   "mimetype": "text/x-python",
   "name": "python",
   "nbconvert_exporter": "python",
   "pygments_lexer": "ipython3",
   "version": "3.7.6"
  }
 },
 "nbformat": 4,
 "nbformat_minor": 4
}
