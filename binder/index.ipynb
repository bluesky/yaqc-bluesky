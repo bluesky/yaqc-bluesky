{
 "cells": [
  {
   "cell_type": "markdown",
   "metadata": {},
   "source": [
    "# yaqc-bluesky\n",
    "\n",
    "Welcome to the yaqc-bluesky jupyter lab playground on binder. 👋\n",
    "\n",
    "Several yaq daemons are running in the background.\n",
    "\n",
    "Run `yaqd status` below to see which daemons are avaliable.\n",
    "\n",
    "Once you're ready, go ahead and play with the other notebooks in this directory."
   ]
  },
  {
   "cell_type": "code",
   "execution_count": 2,
   "metadata": {},
   "outputs": [
    {
     "name": "stdout",
     "output_type": "stream",
     "text": [
      "scanning host 127.0.0.1 from 36000 to 39999...\n",
      "...known daemon ne1000:pump on port 36001 not responding\n",
      "...known daemon system-monitor:monitor on port 38000 not responding\n",
      "...known daemon acton-2150i:tester on port 38050 not responding\n",
      "...known daemon fake-continuous-hardware:fakecont on port 38383 not responding\n",
      "...known daemon gdrive:gdrive on port 39200 not responding\n",
      "...known daemon fake-triggered-sensor:mysensor on port 39876 not responding\n",
      "...done!\n",
      "[Errno 111] Connection refused\n",
      "[Errno 111] Connection refused\n",
      "[Errno 111] Connection refused\n",
      "[Errno 111] Connection refused\n",
      "[Errno 111] Connection refused\n",
      "[Errno 111] Connection refused\n",
      "+-----------+-------+--------------------------+----------+---------+------+\n",
      "| host      | port  | kind                     | name     | status  | busy |\n",
      "+-----------+-------+--------------------------+----------+---------+------+\n",
      "| 127.0.0.1 | 38000 | system-monitor           | monitor  | offline | ?    |\n",
      "| 127.0.0.1 | 36001 | ne1000                   | pump     | offline | ?    |\n",
      "| 127.0.0.1 | 38050 | acton-2150i              | tester   | offline | ?    |\n",
      "| 127.0.0.1 | 38383 | fake-continuous-hardware | fakecont | offline | ?    |\n",
      "| 127.0.0.1 | 39200 | gdrive                   | gdrive   | offline | ?    |\n",
      "| 127.0.0.1 | 39876 | fake-triggered-sensor    | mysensor | offline | ?    |\n",
      "+-----------+-------+--------------------------+----------+---------+------+\n"
     ]
    },
    {
     "name": "stderr",
     "output_type": "stream",
     "text": [
      "Traceback (most recent call last):\n",
      "  File \"/home/blaise/yaq/dev/bin/yaqd-fake-continuous-hardware\", line 8, in <module>\n",
      "    sys.exit(FakeContinuousHardware.main())\n",
      "  File \"/home/blaise/yaq/dev/lib/python3.8/site-packages/yaqd_core/_daemon.py\", line 186, in main\n",
      "    config_file = toml.load(config_filepath)\n",
      "  File \"/home/blaise/yaq/dev/lib/python3.8/site-packages/toml/decoder.py\", line 133, in load\n",
      "    with io.open(_getpath(f), encoding='utf-8') as ffile:\n",
      "FileNotFoundError: [Errno 2] No such file or directory: '/binder/fake-continuous-hardware-config.toml'\n"
     ]
    }
   ],
   "source": [
    "%%bash\n",
    "./launch-daemons.sh\n",
    "yaqd scan\n",
    "yaqd status"
   ]
  },
  {
   "cell_type": "code",
   "execution_count": null,
   "metadata": {},
   "outputs": [],
   "source": []
  }
 ],
 "metadata": {
  "kernelspec": {
   "display_name": "Python 3",
   "language": "python",
   "name": "python3"
  },
  "language_info": {
   "codemirror_mode": {
    "name": "ipython",
    "version": 3
   },
   "file_extension": ".py",
   "mimetype": "text/x-python",
   "name": "python",
   "nbconvert_exporter": "python",
   "pygments_lexer": "ipython3",
   "version": "3.8.4rc1"
  }
 },
 "nbformat": 4,
 "nbformat_minor": 4
}
