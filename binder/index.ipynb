{
 "cells": [
  {
   "cell_type": "markdown",
   "metadata": {},
   "source": [
    "# yaqc-bluesky\n",
    "\n",
    "Welcome to the yaqc-bluesky jupyter lab playground on binder. 👋\n",
    "\n",
    "Several yaq daemons are running in the background.\n",
    "\n",
    "Run `yaqd status` below to see which daemons are avaliable.\n",
    "\n",
    "Once you're ready, go ahead and play with the other notebooks in this directory."
   ]
  },
  {
   "cell_type": "code",
   "execution_count": 3,
   "metadata": {},
   "outputs": [
    {
     "name": "stdout",
     "output_type": "stream",
     "text": [
      "[Errno 111] Connection refused\n",
      "[Errno 111] Connection refused\n",
      "[Errno 111] Connection refused\n",
      "[Errno 111] Connection refused\n",
      "[Errno 111] Connection refused\n",
      "[Errno 111] Connection refused\n",
      "+-----------+-------+--------------------------+----------+---------+------+\n",
      "| host      | port  | kind                     | name     | status  | busy |\n",
      "+-----------+-------+--------------------------+----------+---------+------+\n",
      "| 127.0.0.1 | 38000 | system-monitor           | monitor  | offline | ?    |\n",
      "| 127.0.0.1 | 36001 | ne1000                   | pump     | offline | ?    |\n",
      "| 127.0.0.1 | 38050 | acton-2150i              | tester   | offline | ?    |\n",
      "| 127.0.0.1 | 38383 | fake-continuous-hardware | fakecont | offline | ?    |\n",
      "| 127.0.0.1 | 39200 | gdrive                   | gdrive   | offline | ?    |\n",
      "| 127.0.0.1 | 39876 | fake-triggered-sensor    | mysensor | offline | ?    |\n",
      "+-----------+-------+--------------------------+----------+---------+------+\n"
     ]
    }
   ],
   "source": [
    "%%bash\n",
    "yaqd status"
   ]
  }
 ],
 "metadata": {
  "kernelspec": {
   "display_name": "Python 3",
   "language": "python",
   "name": "python3"
  },
  "language_info": {
   "codemirror_mode": {
    "name": "ipython",
    "version": 3
   },
   "file_extension": ".py",
   "mimetype": "text/x-python",
   "name": "python",
   "nbconvert_exporter": "python",
   "pygments_lexer": "ipython3",
   "version": "3.8.4rc1"
  }
 },
 "nbformat": 4,
 "nbformat_minor": 4
}
