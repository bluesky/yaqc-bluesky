{
 "cells": [
  {
   "cell_type": "markdown",
   "metadata": {},
   "source": [
    "# yaqc-bluesky\n",
    "\n",
    "Welcome to the yaqc-bluesky jupyter lab playground on binder. 👋\n",
    "\n",
    "Run the cell below to launch a bunch of yaq daemons.\n",
    "\n",
    "Once you're ready, go ahead and play with the other notebooks in this directory."
   ]
  },
  {
   "cell_type": "code",
   "execution_count": null,
   "metadata": {},
   "outputs": [],
   "source": [
    "%%bash\n",
    "chmod +x launch-daemons.sh\n",
    "./launch-daemons.sh\n",
    "yaqd scan\n",
    "yaqd status"
   ]
  },
  {
   "cell_type": "markdown",
   "metadata": {},
   "source": [
    "If you see \"ConnectionRefusedError\" don't worry---that's just Binder being weird..."
   ]
  }
 ],
 "metadata": {
  "kernelspec": {
   "display_name": "Python 3",
   "language": "python",
   "name": "python3"
  },
  "language_info": {
   "codemirror_mode": {
    "name": "ipython",
    "version": 3
   },
   "file_extension": ".py",
   "mimetype": "text/x-python",
   "name": "python",
   "nbconvert_exporter": "python",
   "pygments_lexer": "ipython3",
   "version": "3.8.3"
  }
 },
 "nbformat": 4,
 "nbformat_minor": 4
}
